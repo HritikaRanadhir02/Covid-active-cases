{
  "nbformat": 4,
  "nbformat_minor": 0,
  "metadata": {
    "colab": {
      "name": "IMLA lab1.ipynb",
      "provenance": []
    },
    "kernelspec": {
      "name": "python3",
      "display_name": "Python 3"
    },
    "language_info": {
      "name": "python"
    }
  },
  "cells": [
    {
      "cell_type": "code",
      "metadata": {
        "id": "G2l7FJ832LtY"
      },
      "source": [
        "import numpy as np\n",
        "import pandas as pd\n",
        "import matplotlib as plt"
      ],
      "execution_count": null,
      "outputs": []
    },
    {
      "cell_type": "code",
      "metadata": {
        "id": "3bkY-t3W2aK7"
      },
      "source": [
        "df = pd.read_csv(\"Corona.csv\")"
      ],
      "execution_count": null,
      "outputs": []
    },
    {
      "cell_type": "code",
      "metadata": {
        "colab": {
          "base_uri": "https://localhost:8080/",
          "height": 197
        },
        "id": "tWbT3ikD2aHe",
        "outputId": "e1443d3b-8193-44c8-bdf5-76958c063bdc"
      },
      "source": [
        "#Displaying the first 5 rows of the dataset\n",
        "df.head(5)"
      ],
      "execution_count": null,
      "outputs": [
        {
          "output_type": "execute_result",
          "data": {
            "text/html": [
              "<div>\n",
              "<style scoped>\n",
              "    .dataframe tbody tr th:only-of-type {\n",
              "        vertical-align: middle;\n",
              "    }\n",
              "\n",
              "    .dataframe tbody tr th {\n",
              "        vertical-align: top;\n",
              "    }\n",
              "\n",
              "    .dataframe thead th {\n",
              "        text-align: right;\n",
              "    }\n",
              "</style>\n",
              "<table border=\"1\" class=\"dataframe\">\n",
              "  <thead>\n",
              "    <tr style=\"text-align: right;\">\n",
              "      <th></th>\n",
              "      <th>Unnamed: 0</th>\n",
              "      <th>Province/State</th>\n",
              "      <th>Country/Region</th>\n",
              "      <th>Last Update</th>\n",
              "      <th>Confirmed</th>\n",
              "      <th>Deaths</th>\n",
              "      <th>Recovered</th>\n",
              "      <th>Latitude</th>\n",
              "      <th>Longitude</th>\n",
              "    </tr>\n",
              "  </thead>\n",
              "  <tbody>\n",
              "    <tr>\n",
              "      <th>0</th>\n",
              "      <td>0</td>\n",
              "      <td>Hubei</td>\n",
              "      <td>China</td>\n",
              "      <td>2020-03-17T11:53:10</td>\n",
              "      <td>67799</td>\n",
              "      <td>3111</td>\n",
              "      <td>56003</td>\n",
              "      <td>30.9756</td>\n",
              "      <td>112.2707</td>\n",
              "    </tr>\n",
              "    <tr>\n",
              "      <th>1</th>\n",
              "      <td>1</td>\n",
              "      <td>NaN</td>\n",
              "      <td>Italy</td>\n",
              "      <td>2020-03-17T18:33:02</td>\n",
              "      <td>31506</td>\n",
              "      <td>2503</td>\n",
              "      <td>2941</td>\n",
              "      <td>41.8719</td>\n",
              "      <td>12.5674</td>\n",
              "    </tr>\n",
              "    <tr>\n",
              "      <th>2</th>\n",
              "      <td>2</td>\n",
              "      <td>NaN</td>\n",
              "      <td>Iran</td>\n",
              "      <td>2020-03-17T15:13:09</td>\n",
              "      <td>16169</td>\n",
              "      <td>988</td>\n",
              "      <td>5389</td>\n",
              "      <td>32.4279</td>\n",
              "      <td>53.6880</td>\n",
              "    </tr>\n",
              "    <tr>\n",
              "      <th>3</th>\n",
              "      <td>3</td>\n",
              "      <td>NaN</td>\n",
              "      <td>Spain</td>\n",
              "      <td>2020-03-17T20:53:02</td>\n",
              "      <td>11748</td>\n",
              "      <td>533</td>\n",
              "      <td>1028</td>\n",
              "      <td>40.4637</td>\n",
              "      <td>-3.7492</td>\n",
              "    </tr>\n",
              "    <tr>\n",
              "      <th>4</th>\n",
              "      <td>4</td>\n",
              "      <td>NaN</td>\n",
              "      <td>Germany</td>\n",
              "      <td>2020-03-17T18:53:02</td>\n",
              "      <td>9257</td>\n",
              "      <td>24</td>\n",
              "      <td>67</td>\n",
              "      <td>51.1657</td>\n",
              "      <td>10.4515</td>\n",
              "    </tr>\n",
              "  </tbody>\n",
              "</table>\n",
              "</div>"
            ],
            "text/plain": [
              "   Unnamed: 0 Province/State Country/Region  ... Recovered  Latitude  Longitude\n",
              "0           0          Hubei          China  ...     56003   30.9756   112.2707\n",
              "1           1            NaN          Italy  ...      2941   41.8719    12.5674\n",
              "2           2            NaN           Iran  ...      5389   32.4279    53.6880\n",
              "3           3            NaN          Spain  ...      1028   40.4637    -3.7492\n",
              "4           4            NaN        Germany  ...        67   51.1657    10.4515\n",
              "\n",
              "[5 rows x 9 columns]"
            ]
          },
          "metadata": {
            "tags": []
          },
          "execution_count": 3
        }
      ]
    },
    {
      "cell_type": "code",
      "metadata": {
        "colab": {
          "base_uri": "https://localhost:8080/"
        },
        "id": "7NACkBAH2Zq8",
        "outputId": "9394571c-3d69-4ad7-9879-f428e369edb7"
      },
      "source": [
        "#Displaying the information of the dataset\n",
        "df.info()"
      ],
      "execution_count": null,
      "outputs": [
        {
          "output_type": "stream",
          "text": [
            "<class 'pandas.core.frame.DataFrame'>\n",
            "RangeIndex: 276 entries, 0 to 275\n",
            "Data columns (total 9 columns):\n",
            " #   Column          Non-Null Count  Dtype  \n",
            "---  ------          --------------  -----  \n",
            " 0   Unnamed: 0      276 non-null    int64  \n",
            " 1   Province/State  126 non-null    object \n",
            " 2   Country/Region  276 non-null    object \n",
            " 3   Last Update     276 non-null    object \n",
            " 4   Confirmed       276 non-null    int64  \n",
            " 5   Deaths          276 non-null    int64  \n",
            " 6   Recovered       276 non-null    int64  \n",
            " 7   Latitude        276 non-null    float64\n",
            " 8   Longitude       276 non-null    float64\n",
            "dtypes: float64(2), int64(4), object(3)\n",
            "memory usage: 19.5+ KB\n"
          ],
          "name": "stdout"
        }
      ]
    },
    {
      "cell_type": "code",
      "metadata": {
        "colab": {
          "base_uri": "https://localhost:8080/"
        },
        "id": "5HQDYB4_2ZlN",
        "outputId": "a0059994-4976-4603-abfe-65c8903b2988"
      },
      "source": [
        "df.dtypes"
      ],
      "execution_count": null,
      "outputs": [
        {
          "output_type": "execute_result",
          "data": {
            "text/plain": [
              "Unnamed: 0          int64\n",
              "Province/State     object\n",
              "Country/Region     object\n",
              "Last Update        object\n",
              "Confirmed           int64\n",
              "Deaths              int64\n",
              "Recovered           int64\n",
              "Latitude          float64\n",
              "Longitude         float64\n",
              "dtype: object"
            ]
          },
          "metadata": {
            "tags": []
          },
          "execution_count": 5
        }
      ]
    },
    {
      "cell_type": "code",
      "metadata": {
        "colab": {
          "base_uri": "https://localhost:8080/"
        },
        "id": "MVcTrJ082Zg9",
        "outputId": "1b474e7e-2db9-4155-8d71-86baa4fef6aa"
      },
      "source": [
        "df.shape"
      ],
      "execution_count": null,
      "outputs": [
        {
          "output_type": "execute_result",
          "data": {
            "text/plain": [
              "(276, 9)"
            ]
          },
          "metadata": {
            "tags": []
          },
          "execution_count": 7
        }
      ]
    },
    {
      "cell_type": "code",
      "metadata": {
        "colab": {
          "base_uri": "https://localhost:8080/"
        },
        "id": "7YvWSGGx3Qm9",
        "outputId": "24b3c8cf-40cb-456b-f5d0-7b64461eed61"
      },
      "source": [
        "df.size"
      ],
      "execution_count": null,
      "outputs": [
        {
          "output_type": "execute_result",
          "data": {
            "text/plain": [
              "2484"
            ]
          },
          "metadata": {
            "tags": []
          },
          "execution_count": 8
        }
      ]
    },
    {
      "cell_type": "code",
      "metadata": {
        "colab": {
          "base_uri": "https://localhost:8080/"
        },
        "id": "m7nYvekK3QjK",
        "outputId": "8f800eca-35e5-45be-c028-2bd0b6689284"
      },
      "source": [
        "df.columns"
      ],
      "execution_count": null,
      "outputs": [
        {
          "output_type": "execute_result",
          "data": {
            "text/plain": [
              "Index(['Unnamed: 0', 'Province/State', 'Country/Region', 'Last Update',\n",
              "       'Confirmed', 'Deaths', 'Recovered', 'Latitude', 'Longitude'],\n",
              "      dtype='object')"
            ]
          },
          "metadata": {
            "tags": []
          },
          "execution_count": 11
        }
      ]
    },
    {
      "cell_type": "code",
      "metadata": {
        "colab": {
          "base_uri": "https://localhost:8080/"
        },
        "id": "DbmvHPAx3QgM",
        "outputId": "545b023e-2296-4714-a377-b14ef08b114e"
      },
      "source": [
        "df.values"
      ],
      "execution_count": null,
      "outputs": [
        {
          "output_type": "execute_result",
          "data": {
            "text/plain": [
              "array([[0, 'Hubei', 'China', ..., 56003, 30.9756, 112.2707],\n",
              "       [1, nan, 'Italy', ..., 2941, 41.8719, 12.5674],\n",
              "       [2, nan, 'Iran', ..., 5389, 32.4279, 53.688],\n",
              "       ...,\n",
              "       [273, nan, 'Puerto Rico', ..., 0, 18.2, -66.5],\n",
              "       [274, nan, 'Republic of the Congo', ..., 0, -1.44, 15.556],\n",
              "       [275, nan, 'occupied Palestinian territory', ..., 0, 31.9522,\n",
              "        35.2332]], dtype=object)"
            ]
          },
          "metadata": {
            "tags": []
          },
          "execution_count": 12
        }
      ]
    },
    {
      "cell_type": "code",
      "metadata": {
        "colab": {
          "base_uri": "https://localhost:8080/",
          "height": 406
        },
        "id": "2lcasN-c3QFB",
        "outputId": "8bc89f89-5fe7-4610-fdb6-7d9859c0e21b"
      },
      "source": [
        "#Checking for missing values\n",
        "df.isnull()"
      ],
      "execution_count": null,
      "outputs": [
        {
          "output_type": "execute_result",
          "data": {
            "text/html": [
              "<div>\n",
              "<style scoped>\n",
              "    .dataframe tbody tr th:only-of-type {\n",
              "        vertical-align: middle;\n",
              "    }\n",
              "\n",
              "    .dataframe tbody tr th {\n",
              "        vertical-align: top;\n",
              "    }\n",
              "\n",
              "    .dataframe thead th {\n",
              "        text-align: right;\n",
              "    }\n",
              "</style>\n",
              "<table border=\"1\" class=\"dataframe\">\n",
              "  <thead>\n",
              "    <tr style=\"text-align: right;\">\n",
              "      <th></th>\n",
              "      <th>Unnamed: 0</th>\n",
              "      <th>Province/State</th>\n",
              "      <th>Country/Region</th>\n",
              "      <th>Last Update</th>\n",
              "      <th>Confirmed</th>\n",
              "      <th>Deaths</th>\n",
              "      <th>Recovered</th>\n",
              "      <th>Latitude</th>\n",
              "      <th>Longitude</th>\n",
              "    </tr>\n",
              "  </thead>\n",
              "  <tbody>\n",
              "    <tr>\n",
              "      <th>0</th>\n",
              "      <td>False</td>\n",
              "      <td>False</td>\n",
              "      <td>False</td>\n",
              "      <td>False</td>\n",
              "      <td>False</td>\n",
              "      <td>False</td>\n",
              "      <td>False</td>\n",
              "      <td>False</td>\n",
              "      <td>False</td>\n",
              "    </tr>\n",
              "    <tr>\n",
              "      <th>1</th>\n",
              "      <td>False</td>\n",
              "      <td>True</td>\n",
              "      <td>False</td>\n",
              "      <td>False</td>\n",
              "      <td>False</td>\n",
              "      <td>False</td>\n",
              "      <td>False</td>\n",
              "      <td>False</td>\n",
              "      <td>False</td>\n",
              "    </tr>\n",
              "    <tr>\n",
              "      <th>2</th>\n",
              "      <td>False</td>\n",
              "      <td>True</td>\n",
              "      <td>False</td>\n",
              "      <td>False</td>\n",
              "      <td>False</td>\n",
              "      <td>False</td>\n",
              "      <td>False</td>\n",
              "      <td>False</td>\n",
              "      <td>False</td>\n",
              "    </tr>\n",
              "    <tr>\n",
              "      <th>3</th>\n",
              "      <td>False</td>\n",
              "      <td>True</td>\n",
              "      <td>False</td>\n",
              "      <td>False</td>\n",
              "      <td>False</td>\n",
              "      <td>False</td>\n",
              "      <td>False</td>\n",
              "      <td>False</td>\n",
              "      <td>False</td>\n",
              "    </tr>\n",
              "    <tr>\n",
              "      <th>4</th>\n",
              "      <td>False</td>\n",
              "      <td>True</td>\n",
              "      <td>False</td>\n",
              "      <td>False</td>\n",
              "      <td>False</td>\n",
              "      <td>False</td>\n",
              "      <td>False</td>\n",
              "      <td>False</td>\n",
              "      <td>False</td>\n",
              "    </tr>\n",
              "    <tr>\n",
              "      <th>...</th>\n",
              "      <td>...</td>\n",
              "      <td>...</td>\n",
              "      <td>...</td>\n",
              "      <td>...</td>\n",
              "      <td>...</td>\n",
              "      <td>...</td>\n",
              "      <td>...</td>\n",
              "      <td>...</td>\n",
              "      <td>...</td>\n",
              "    </tr>\n",
              "    <tr>\n",
              "      <th>271</th>\n",
              "      <td>False</td>\n",
              "      <td>True</td>\n",
              "      <td>False</td>\n",
              "      <td>False</td>\n",
              "      <td>False</td>\n",
              "      <td>False</td>\n",
              "      <td>False</td>\n",
              "      <td>False</td>\n",
              "      <td>False</td>\n",
              "    </tr>\n",
              "    <tr>\n",
              "      <th>272</th>\n",
              "      <td>False</td>\n",
              "      <td>True</td>\n",
              "      <td>False</td>\n",
              "      <td>False</td>\n",
              "      <td>False</td>\n",
              "      <td>False</td>\n",
              "      <td>False</td>\n",
              "      <td>False</td>\n",
              "      <td>False</td>\n",
              "    </tr>\n",
              "    <tr>\n",
              "      <th>273</th>\n",
              "      <td>False</td>\n",
              "      <td>True</td>\n",
              "      <td>False</td>\n",
              "      <td>False</td>\n",
              "      <td>False</td>\n",
              "      <td>False</td>\n",
              "      <td>False</td>\n",
              "      <td>False</td>\n",
              "      <td>False</td>\n",
              "    </tr>\n",
              "    <tr>\n",
              "      <th>274</th>\n",
              "      <td>False</td>\n",
              "      <td>True</td>\n",
              "      <td>False</td>\n",
              "      <td>False</td>\n",
              "      <td>False</td>\n",
              "      <td>False</td>\n",
              "      <td>False</td>\n",
              "      <td>False</td>\n",
              "      <td>False</td>\n",
              "    </tr>\n",
              "    <tr>\n",
              "      <th>275</th>\n",
              "      <td>False</td>\n",
              "      <td>True</td>\n",
              "      <td>False</td>\n",
              "      <td>False</td>\n",
              "      <td>False</td>\n",
              "      <td>False</td>\n",
              "      <td>False</td>\n",
              "      <td>False</td>\n",
              "      <td>False</td>\n",
              "    </tr>\n",
              "  </tbody>\n",
              "</table>\n",
              "<p>276 rows × 9 columns</p>\n",
              "</div>"
            ],
            "text/plain": [
              "     Unnamed: 0  Province/State  Country/Region  ...  Recovered  Latitude  Longitude\n",
              "0         False           False           False  ...      False     False      False\n",
              "1         False            True           False  ...      False     False      False\n",
              "2         False            True           False  ...      False     False      False\n",
              "3         False            True           False  ...      False     False      False\n",
              "4         False            True           False  ...      False     False      False\n",
              "..          ...             ...             ...  ...        ...       ...        ...\n",
              "271       False            True           False  ...      False     False      False\n",
              "272       False            True           False  ...      False     False      False\n",
              "273       False            True           False  ...      False     False      False\n",
              "274       False            True           False  ...      False     False      False\n",
              "275       False            True           False  ...      False     False      False\n",
              "\n",
              "[276 rows x 9 columns]"
            ]
          },
          "metadata": {
            "tags": []
          },
          "execution_count": 13
        }
      ]
    },
    {
      "cell_type": "code",
      "metadata": {
        "colab": {
          "base_uri": "https://localhost:8080/",
          "height": 406
        },
        "id": "WsygF0ml3QB4",
        "outputId": "a1e095ca-ca76-47d6-a3d1-34b9ba266c43"
      },
      "source": [
        "df.fillna(0)"
      ],
      "execution_count": null,
      "outputs": [
        {
          "output_type": "execute_result",
          "data": {
            "text/html": [
              "<div>\n",
              "<style scoped>\n",
              "    .dataframe tbody tr th:only-of-type {\n",
              "        vertical-align: middle;\n",
              "    }\n",
              "\n",
              "    .dataframe tbody tr th {\n",
              "        vertical-align: top;\n",
              "    }\n",
              "\n",
              "    .dataframe thead th {\n",
              "        text-align: right;\n",
              "    }\n",
              "</style>\n",
              "<table border=\"1\" class=\"dataframe\">\n",
              "  <thead>\n",
              "    <tr style=\"text-align: right;\">\n",
              "      <th></th>\n",
              "      <th>Unnamed: 0</th>\n",
              "      <th>Province/State</th>\n",
              "      <th>Country/Region</th>\n",
              "      <th>Last Update</th>\n",
              "      <th>Confirmed</th>\n",
              "      <th>Deaths</th>\n",
              "      <th>Recovered</th>\n",
              "      <th>Latitude</th>\n",
              "      <th>Longitude</th>\n",
              "    </tr>\n",
              "  </thead>\n",
              "  <tbody>\n",
              "    <tr>\n",
              "      <th>0</th>\n",
              "      <td>0</td>\n",
              "      <td>Hubei</td>\n",
              "      <td>China</td>\n",
              "      <td>2020-03-17T11:53:10</td>\n",
              "      <td>67799</td>\n",
              "      <td>3111</td>\n",
              "      <td>56003</td>\n",
              "      <td>30.9756</td>\n",
              "      <td>112.2707</td>\n",
              "    </tr>\n",
              "    <tr>\n",
              "      <th>1</th>\n",
              "      <td>1</td>\n",
              "      <td>0</td>\n",
              "      <td>Italy</td>\n",
              "      <td>2020-03-17T18:33:02</td>\n",
              "      <td>31506</td>\n",
              "      <td>2503</td>\n",
              "      <td>2941</td>\n",
              "      <td>41.8719</td>\n",
              "      <td>12.5674</td>\n",
              "    </tr>\n",
              "    <tr>\n",
              "      <th>2</th>\n",
              "      <td>2</td>\n",
              "      <td>0</td>\n",
              "      <td>Iran</td>\n",
              "      <td>2020-03-17T15:13:09</td>\n",
              "      <td>16169</td>\n",
              "      <td>988</td>\n",
              "      <td>5389</td>\n",
              "      <td>32.4279</td>\n",
              "      <td>53.6880</td>\n",
              "    </tr>\n",
              "    <tr>\n",
              "      <th>3</th>\n",
              "      <td>3</td>\n",
              "      <td>0</td>\n",
              "      <td>Spain</td>\n",
              "      <td>2020-03-17T20:53:02</td>\n",
              "      <td>11748</td>\n",
              "      <td>533</td>\n",
              "      <td>1028</td>\n",
              "      <td>40.4637</td>\n",
              "      <td>-3.7492</td>\n",
              "    </tr>\n",
              "    <tr>\n",
              "      <th>4</th>\n",
              "      <td>4</td>\n",
              "      <td>0</td>\n",
              "      <td>Germany</td>\n",
              "      <td>2020-03-17T18:53:02</td>\n",
              "      <td>9257</td>\n",
              "      <td>24</td>\n",
              "      <td>67</td>\n",
              "      <td>51.1657</td>\n",
              "      <td>10.4515</td>\n",
              "    </tr>\n",
              "    <tr>\n",
              "      <th>...</th>\n",
              "      <td>...</td>\n",
              "      <td>...</td>\n",
              "      <td>...</td>\n",
              "      <td>...</td>\n",
              "      <td>...</td>\n",
              "      <td>...</td>\n",
              "      <td>...</td>\n",
              "      <td>...</td>\n",
              "      <td>...</td>\n",
              "    </tr>\n",
              "    <tr>\n",
              "      <th>271</th>\n",
              "      <td>271</td>\n",
              "      <td>0</td>\n",
              "      <td>Guernsey</td>\n",
              "      <td>2020-03-17T18:33:03</td>\n",
              "      <td>0</td>\n",
              "      <td>0</td>\n",
              "      <td>0</td>\n",
              "      <td>49.4500</td>\n",
              "      <td>-2.5800</td>\n",
              "    </tr>\n",
              "    <tr>\n",
              "      <th>272</th>\n",
              "      <td>272</td>\n",
              "      <td>0</td>\n",
              "      <td>Jersey</td>\n",
              "      <td>2020-03-17T18:33:03</td>\n",
              "      <td>0</td>\n",
              "      <td>0</td>\n",
              "      <td>0</td>\n",
              "      <td>49.1900</td>\n",
              "      <td>-2.1100</td>\n",
              "    </tr>\n",
              "    <tr>\n",
              "      <th>273</th>\n",
              "      <td>273</td>\n",
              "      <td>0</td>\n",
              "      <td>Puerto Rico</td>\n",
              "      <td>2020-03-17T16:13:14</td>\n",
              "      <td>0</td>\n",
              "      <td>0</td>\n",
              "      <td>0</td>\n",
              "      <td>18.2000</td>\n",
              "      <td>-66.5000</td>\n",
              "    </tr>\n",
              "    <tr>\n",
              "      <th>274</th>\n",
              "      <td>274</td>\n",
              "      <td>0</td>\n",
              "      <td>Republic of the Congo</td>\n",
              "      <td>2020-03-17T21:33:03</td>\n",
              "      <td>0</td>\n",
              "      <td>0</td>\n",
              "      <td>0</td>\n",
              "      <td>-1.4400</td>\n",
              "      <td>15.5560</td>\n",
              "    </tr>\n",
              "    <tr>\n",
              "      <th>275</th>\n",
              "      <td>275</td>\n",
              "      <td>0</td>\n",
              "      <td>occupied Palestinian territory</td>\n",
              "      <td>2020-03-11T20:53:02</td>\n",
              "      <td>0</td>\n",
              "      <td>0</td>\n",
              "      <td>0</td>\n",
              "      <td>31.9522</td>\n",
              "      <td>35.2332</td>\n",
              "    </tr>\n",
              "  </tbody>\n",
              "</table>\n",
              "<p>276 rows × 9 columns</p>\n",
              "</div>"
            ],
            "text/plain": [
              "     Unnamed: 0 Province/State  ... Latitude Longitude\n",
              "0             0          Hubei  ...  30.9756  112.2707\n",
              "1             1              0  ...  41.8719   12.5674\n",
              "2             2              0  ...  32.4279   53.6880\n",
              "3             3              0  ...  40.4637   -3.7492\n",
              "4             4              0  ...  51.1657   10.4515\n",
              "..          ...            ...  ...      ...       ...\n",
              "271         271              0  ...  49.4500   -2.5800\n",
              "272         272              0  ...  49.1900   -2.1100\n",
              "273         273              0  ...  18.2000  -66.5000\n",
              "274         274              0  ...  -1.4400   15.5560\n",
              "275         275              0  ...  31.9522   35.2332\n",
              "\n",
              "[276 rows x 9 columns]"
            ]
          },
          "metadata": {
            "tags": []
          },
          "execution_count": 14
        }
      ]
    },
    {
      "cell_type": "code",
      "metadata": {
        "id": "56uoYCG63PyZ"
      },
      "source": [
        "#Adding ActiveCases column to dataframe\n",
        "df.insert(9,\"Active_Cases\",\"0\")"
      ],
      "execution_count": null,
      "outputs": []
    },
    {
      "cell_type": "code",
      "metadata": {
        "colab": {
          "base_uri": "https://localhost:8080/",
          "height": 297
        },
        "id": "BDsNjyho5vfd",
        "outputId": "de71a7ed-0285-44b7-acea-3801599bc0a5"
      },
      "source": [
        "df.head()"
      ],
      "execution_count": null,
      "outputs": [
        {
          "output_type": "execute_result",
          "data": {
            "text/html": [
              "<div>\n",
              "<style scoped>\n",
              "    .dataframe tbody tr th:only-of-type {\n",
              "        vertical-align: middle;\n",
              "    }\n",
              "\n",
              "    .dataframe tbody tr th {\n",
              "        vertical-align: top;\n",
              "    }\n",
              "\n",
              "    .dataframe thead th {\n",
              "        text-align: right;\n",
              "    }\n",
              "</style>\n",
              "<table border=\"1\" class=\"dataframe\">\n",
              "  <thead>\n",
              "    <tr style=\"text-align: right;\">\n",
              "      <th></th>\n",
              "      <th>Unnamed: 0</th>\n",
              "      <th>Province/State</th>\n",
              "      <th>Country/Region</th>\n",
              "      <th>Last Update</th>\n",
              "      <th>Confirmed</th>\n",
              "      <th>Deaths</th>\n",
              "      <th>Recovered</th>\n",
              "      <th>Latitude</th>\n",
              "      <th>Longitude</th>\n",
              "      <th>Active_Cases</th>\n",
              "      <th>ActiveCases</th>\n",
              "    </tr>\n",
              "  </thead>\n",
              "  <tbody>\n",
              "    <tr>\n",
              "      <th>0</th>\n",
              "      <td>0</td>\n",
              "      <td>Hubei</td>\n",
              "      <td>China</td>\n",
              "      <td>2020-03-17T11:53:10</td>\n",
              "      <td>67799</td>\n",
              "      <td>3111</td>\n",
              "      <td>56003</td>\n",
              "      <td>30.9756</td>\n",
              "      <td>112.2707</td>\n",
              "      <td>0</td>\n",
              "      <td>Any</td>\n",
              "    </tr>\n",
              "    <tr>\n",
              "      <th>1</th>\n",
              "      <td>1</td>\n",
              "      <td>NaN</td>\n",
              "      <td>Italy</td>\n",
              "      <td>2020-03-17T18:33:02</td>\n",
              "      <td>31506</td>\n",
              "      <td>2503</td>\n",
              "      <td>2941</td>\n",
              "      <td>41.8719</td>\n",
              "      <td>12.5674</td>\n",
              "      <td>0</td>\n",
              "      <td>Any</td>\n",
              "    </tr>\n",
              "    <tr>\n",
              "      <th>2</th>\n",
              "      <td>2</td>\n",
              "      <td>NaN</td>\n",
              "      <td>Iran</td>\n",
              "      <td>2020-03-17T15:13:09</td>\n",
              "      <td>16169</td>\n",
              "      <td>988</td>\n",
              "      <td>5389</td>\n",
              "      <td>32.4279</td>\n",
              "      <td>53.6880</td>\n",
              "      <td>0</td>\n",
              "      <td>Any</td>\n",
              "    </tr>\n",
              "    <tr>\n",
              "      <th>3</th>\n",
              "      <td>3</td>\n",
              "      <td>NaN</td>\n",
              "      <td>Spain</td>\n",
              "      <td>2020-03-17T20:53:02</td>\n",
              "      <td>11748</td>\n",
              "      <td>533</td>\n",
              "      <td>1028</td>\n",
              "      <td>40.4637</td>\n",
              "      <td>-3.7492</td>\n",
              "      <td>0</td>\n",
              "      <td>Any</td>\n",
              "    </tr>\n",
              "    <tr>\n",
              "      <th>4</th>\n",
              "      <td>4</td>\n",
              "      <td>NaN</td>\n",
              "      <td>Germany</td>\n",
              "      <td>2020-03-17T18:53:02</td>\n",
              "      <td>9257</td>\n",
              "      <td>24</td>\n",
              "      <td>67</td>\n",
              "      <td>51.1657</td>\n",
              "      <td>10.4515</td>\n",
              "      <td>0</td>\n",
              "      <td>Any</td>\n",
              "    </tr>\n",
              "  </tbody>\n",
              "</table>\n",
              "</div>"
            ],
            "text/plain": [
              "   Unnamed: 0 Province/State Country/Region  ... Longitude  Active_Cases  ActiveCases\n",
              "0           0          Hubei          China  ...  112.2707             0          Any\n",
              "1           1            NaN          Italy  ...   12.5674             0          Any\n",
              "2           2            NaN           Iran  ...   53.6880             0          Any\n",
              "3           3            NaN          Spain  ...   -3.7492             0          Any\n",
              "4           4            NaN        Germany  ...   10.4515             0          Any\n",
              "\n",
              "[5 rows x 11 columns]"
            ]
          },
          "metadata": {
            "tags": []
          },
          "execution_count": 24
        }
      ]
    },
    {
      "cell_type": "code",
      "metadata": {
        "colab": {
          "base_uri": "https://localhost:8080/",
          "height": 406
        },
        "id": "8FZ07Irb5vbm",
        "outputId": "8bd97f27-8d17-41c4-9c27-92f2e81a60a3"
      },
      "source": [
        "df.get([\"Confirmed\",\"Deaths\",\"Recovered\",\"ActiveCases\"])"
      ],
      "execution_count": null,
      "outputs": [
        {
          "output_type": "execute_result",
          "data": {
            "text/html": [
              "<div>\n",
              "<style scoped>\n",
              "    .dataframe tbody tr th:only-of-type {\n",
              "        vertical-align: middle;\n",
              "    }\n",
              "\n",
              "    .dataframe tbody tr th {\n",
              "        vertical-align: top;\n",
              "    }\n",
              "\n",
              "    .dataframe thead th {\n",
              "        text-align: right;\n",
              "    }\n",
              "</style>\n",
              "<table border=\"1\" class=\"dataframe\">\n",
              "  <thead>\n",
              "    <tr style=\"text-align: right;\">\n",
              "      <th></th>\n",
              "      <th>Confirmed</th>\n",
              "      <th>Deaths</th>\n",
              "      <th>Recovered</th>\n",
              "      <th>ActiveCases</th>\n",
              "    </tr>\n",
              "  </thead>\n",
              "  <tbody>\n",
              "    <tr>\n",
              "      <th>0</th>\n",
              "      <td>67799</td>\n",
              "      <td>3111</td>\n",
              "      <td>56003</td>\n",
              "      <td>Any</td>\n",
              "    </tr>\n",
              "    <tr>\n",
              "      <th>1</th>\n",
              "      <td>31506</td>\n",
              "      <td>2503</td>\n",
              "      <td>2941</td>\n",
              "      <td>Any</td>\n",
              "    </tr>\n",
              "    <tr>\n",
              "      <th>2</th>\n",
              "      <td>16169</td>\n",
              "      <td>988</td>\n",
              "      <td>5389</td>\n",
              "      <td>Any</td>\n",
              "    </tr>\n",
              "    <tr>\n",
              "      <th>3</th>\n",
              "      <td>11748</td>\n",
              "      <td>533</td>\n",
              "      <td>1028</td>\n",
              "      <td>Any</td>\n",
              "    </tr>\n",
              "    <tr>\n",
              "      <th>4</th>\n",
              "      <td>9257</td>\n",
              "      <td>24</td>\n",
              "      <td>67</td>\n",
              "      <td>Any</td>\n",
              "    </tr>\n",
              "    <tr>\n",
              "      <th>...</th>\n",
              "      <td>...</td>\n",
              "      <td>...</td>\n",
              "      <td>...</td>\n",
              "      <td>...</td>\n",
              "    </tr>\n",
              "    <tr>\n",
              "      <th>271</th>\n",
              "      <td>0</td>\n",
              "      <td>0</td>\n",
              "      <td>0</td>\n",
              "      <td>Any</td>\n",
              "    </tr>\n",
              "    <tr>\n",
              "      <th>272</th>\n",
              "      <td>0</td>\n",
              "      <td>0</td>\n",
              "      <td>0</td>\n",
              "      <td>Any</td>\n",
              "    </tr>\n",
              "    <tr>\n",
              "      <th>273</th>\n",
              "      <td>0</td>\n",
              "      <td>0</td>\n",
              "      <td>0</td>\n",
              "      <td>Any</td>\n",
              "    </tr>\n",
              "    <tr>\n",
              "      <th>274</th>\n",
              "      <td>0</td>\n",
              "      <td>0</td>\n",
              "      <td>0</td>\n",
              "      <td>Any</td>\n",
              "    </tr>\n",
              "    <tr>\n",
              "      <th>275</th>\n",
              "      <td>0</td>\n",
              "      <td>0</td>\n",
              "      <td>0</td>\n",
              "      <td>Any</td>\n",
              "    </tr>\n",
              "  </tbody>\n",
              "</table>\n",
              "<p>276 rows × 4 columns</p>\n",
              "</div>"
            ],
            "text/plain": [
              "     Confirmed  Deaths  Recovered ActiveCases\n",
              "0        67799    3111      56003         Any\n",
              "1        31506    2503       2941         Any\n",
              "2        16169     988       5389         Any\n",
              "3        11748     533       1028         Any\n",
              "4         9257      24         67         Any\n",
              "..         ...     ...        ...         ...\n",
              "271          0       0          0         Any\n",
              "272          0       0          0         Any\n",
              "273          0       0          0         Any\n",
              "274          0       0          0         Any\n",
              "275          0       0          0         Any\n",
              "\n",
              "[276 rows x 4 columns]"
            ]
          },
          "metadata": {
            "tags": []
          },
          "execution_count": 20
        }
      ]
    },
    {
      "cell_type": "code",
      "metadata": {
        "colab": {
          "base_uri": "https://localhost:8080/"
        },
        "id": "_bfNMFEj5vU6",
        "outputId": "321a85bc-9f0c-439d-ddff-0315047f6907"
      },
      "source": [
        "#Active cases country wise\n",
        "df['Active'] = df['Confirmed'] - df['Deaths'] - df['Recovered']\n",
        "result = df.groupby('Country/Region')['Confirmed', 'Deaths', 'Recovered', 'Active'].sum().reset_index()\n",
        "print(result) "
      ],
      "execution_count": null,
      "outputs": [
        {
          "output_type": "stream",
          "text": [
            "                     Country/Region  Confirmed  Deaths  Recovered  Active\n",
            "0                       Afghanistan         22       0          1      21\n",
            "1                           Albania         55       1          0      54\n",
            "2                           Algeria         60       4         12      44\n",
            "3                           Andorra         39       0          1      38\n",
            "4               Antigua and Barbuda          1       0          0       1\n",
            "..                              ...        ...     ...        ...     ...\n",
            "154                         Uruguay         29       0          0      29\n",
            "155                      Uzbekistan         10       0          0      10\n",
            "156                       Venezuela         33       0          0      33\n",
            "157                         Vietnam         66       0         16      50\n",
            "158  occupied Palestinian territory          0       0          0       0\n",
            "\n",
            "[159 rows x 5 columns]\n"
          ],
          "name": "stdout"
        },
        {
          "output_type": "stream",
          "text": [
            "/usr/local/lib/python3.7/dist-packages/ipykernel_launcher.py:2: FutureWarning: Indexing with multiple keys (implicitly converted to a tuple of keys) will be deprecated, use a list instead.\n",
            "  \n"
          ],
          "name": "stderr"
        }
      ]
    },
    {
      "cell_type": "code",
      "metadata": {
        "colab": {
          "base_uri": "https://localhost:8080/"
        },
        "id": "Q1rOMkOs5vFZ",
        "outputId": "d825a0b6-ae6a-43b3-df95-f73979d98faa"
      },
      "source": [
        "#Active cases country and province wise\n",
        "data = df.groupby(['Country/Region', 'Province/State'])['Confirmed', 'Deaths', 'Recovered'].max()\n",
        "print(data)"
      ],
      "execution_count": null,
      "outputs": [
        {
          "output_type": "stream",
          "text": [
            "                                             Confirmed  Deaths  Recovered\n",
            "Country/Region Province/State                                            \n",
            "Australia      Australian Capital Territory          2       0          0\n",
            "               From Diamond Princess                 0       0          0\n",
            "               New South Wales                     210       4          4\n",
            "               Northern Territory                    1       0          0\n",
            "               Queensland                           78       0          8\n",
            "...                                                ...     ...        ...\n",
            "US             Wyoming                              11       0          0\n",
            "United Kingdom Cayman Islands                        1       1          0\n",
            "               Channel Islands                       6       0          0\n",
            "               Gibraltar                             3       0          1\n",
            "               United Kingdom                     1950      55         52\n",
            "\n",
            "[126 rows x 3 columns]\n"
          ],
          "name": "stdout"
        },
        {
          "output_type": "stream",
          "text": [
            "/usr/local/lib/python3.7/dist-packages/ipykernel_launcher.py:1: FutureWarning: Indexing with multiple keys (implicitly converted to a tuple of keys) will be deprecated, use a list instead.\n",
            "  \"\"\"Entry point for launching an IPython kernel.\n"
          ],
          "name": "stderr"
        }
      ]
    },
    {
      "cell_type": "code",
      "metadata": {
        "colab": {
          "base_uri": "https://localhost:8080/"
        },
        "id": "K_-ddKgw5vAf",
        "outputId": "e043a841-54e1-4fd0-d9bc-27fff0859587"
      },
      "source": [
        "#Active cases China province's wise\n",
        "china = df[df['Country/Region']=='China']\n",
        "china = china[['Province/State', 'Confirmed', 'Deaths', 'Recovered']]\n",
        "result = china.sort_values(by='Confirmed', ascending=False)\n",
        "result = result.reset_index(drop=True)\n",
        "print(result)"
      ],
      "execution_count": null,
      "outputs": [
        {
          "output_type": "stream",
          "text": [
            "    Province/State  Confirmed  Deaths  Recovered\n",
            "0            Hubei      67799    3111      56003\n",
            "1        Guangdong       1364       8       1307\n",
            "2            Henan       1273      22       1250\n",
            "3         Zhejiang       1232       1       1216\n",
            "4            Hunan       1018       4       1014\n",
            "5            Anhui        990       6        984\n",
            "6          Jiangxi        935       1        934\n",
            "7         Shandong        761       7        746\n",
            "8          Jiangsu        631       0        631\n",
            "9        Chongqing        576       6        570\n",
            "10         Sichuan        540       3        520\n",
            "11    Heilongjiang        482      13        456\n",
            "12         Beijing        456       8        369\n",
            "13        Shanghai        358       3        325\n",
            "14           Hebei        318       6        310\n",
            "15          Fujian        296       1        295\n",
            "16         Guangxi        253       2        248\n",
            "17         Shaanxi        246       3        236\n",
            "18          Yunnan        176       2        172\n",
            "19          Hainan        168       6        161\n",
            "20       Hong Kong        162       4         88\n",
            "21         Guizhou        147       2        144\n",
            "22         Tianjin        136       3        133\n",
            "23           Gansu        133       2         91\n",
            "24          Shanxi        133       0        133\n",
            "25        Liaoning        125       1        120\n",
            "26           Jilin         93       1         92\n",
            "27        Xinjiang         76       3         73\n",
            "28  Inner Mongolia         75       1         73\n",
            "29         Ningxia         75       0         75\n",
            "30         Qinghai         18       0         18\n",
            "31           Macau         12       0         10\n",
            "32           Tibet          1       0          1\n"
          ],
          "name": "stdout"
        }
      ]
    },
    {
      "cell_type": "code",
      "metadata": {
        "colab": {
          "base_uri": "https://localhost:8080/"
        },
        "id": "7IOXPge65u7J",
        "outputId": "a0fc87aa-4923-4be9-e552-948430b18b42"
      },
      "source": [
        "#Top 10 countries of corona virus\n",
        "result1 = df.groupby('Country/Region').max().sort_values(by='Confirmed', ascending=False)[:10]\n",
        "pd.set_option('display.max_column', None)\n",
        "print(result1)"
      ],
      "execution_count": null,
      "outputs": [
        {
          "output_type": "stream",
          "text": [
            "                Unnamed: 0  Province/State          Last Update  Confirmed  \\\n",
            "Country/Region                                                               \n",
            "China                  247        Zhejiang  2020-03-17T12:13:13      67799   \n",
            "Italy                    1             NaN  2020-03-17T18:33:02      31506   \n",
            "Iran                     2             NaN  2020-03-17T15:13:09      16169   \n",
            "Spain                    3             NaN  2020-03-17T20:53:02      11748   \n",
            "Germany                  4             NaN  2020-03-17T18:53:02       9257   \n",
            "Korea, South             5             NaN  2020-03-17T10:33:03       8320   \n",
            "France                 251       St Martin  2020-03-17T19:13:08       7652   \n",
            "Switzerland              7             NaN  2020-03-17T16:33:04       2700   \n",
            "United Kingdom         269  United Kingdom  2020-03-17T15:13:09       1950   \n",
            "US                     268         Wyoming  2020-03-17T23:53:03       1706   \n",
            "\n",
            "                Deaths  Recovered  Latitude  Longitude Active_Cases  \\\n",
            "Country/Region                                                        \n",
            "China             3111      56003   47.8620   127.7615            0   \n",
            "Italy             2503       2941   41.8719    12.5674            0   \n",
            "Iran               988       5389   32.4279    53.6880            0   \n",
            "Spain              533       1028   40.4637    -3.7492            0   \n",
            "Germany             24         67   51.1657    10.4515            0   \n",
            "Korea, South        81       1407   35.9078   127.7669            0   \n",
            "France             148         12   46.2276    55.2471            0   \n",
            "Switzerland         27          4   46.8182     8.2275            0   \n",
            "United Kingdom      55         52   55.3781    -2.3644            0   \n",
            "US                  55          6   61.3707   144.7937            0   \n",
            "\n",
            "               ActiveCases  Active  \n",
            "Country/Region                      \n",
            "China                  Any    8685  \n",
            "Italy                  Any   26062  \n",
            "Iran                   Any    9792  \n",
            "Spain                  Any   10187  \n",
            "Germany                Any    9166  \n",
            "Korea, South           Any    6832  \n",
            "France                 Any    7492  \n",
            "Switzerland            Any    2669  \n",
            "United Kingdom         Any    1843  \n",
            "US                     Any    1693  \n"
          ],
          "name": "stdout"
        }
      ]
    },
    {
      "cell_type": "code",
      "metadata": {
        "colab": {
          "base_uri": "https://localhost:8080/"
        },
        "id": "UzIvTpuR5u0H",
        "outputId": "d3af8745-203b-4c64-d470-39989897f17c"
      },
      "source": [
        "#List of countrie that recovered\n",
        "data = df.groupby('Country/Region')['Confirmed', 'Deaths', 'Recovered'].sum().reset_index()\n",
        "result = data[data['Confirmed']==data['Recovered']]\n",
        "result = result[['Country/Region', 'Confirmed', 'Recovered']]\n",
        "result = result.sort_values('Confirmed', ascending=False)\n",
        "result = result[result['Confirmed']>0]\n",
        "result = result.reset_index(drop=True)\n",
        "print(result)"
      ],
      "execution_count": null,
      "outputs": [
        {
          "output_type": "stream",
          "text": [
            "  Country/Region  Confirmed  Recovered\n",
            "0          Nepal          1          1\n"
          ],
          "name": "stdout"
        },
        {
          "output_type": "stream",
          "text": [
            "/usr/local/lib/python3.7/dist-packages/ipykernel_launcher.py:1: FutureWarning: Indexing with multiple keys (implicitly converted to a tuple of keys) will be deprecated, use a list instead.\n",
            "  \"\"\"Entry point for launching an IPython kernel.\n"
          ],
          "name": "stderr"
        }
      ]
    },
    {
      "cell_type": "code",
      "metadata": {
        "id": "gRvkhu3Jai6g"
      },
      "source": [
        ""
      ],
      "execution_count": null,
      "outputs": []
    },
    {
      "cell_type": "code",
      "metadata": {
        "id": "J4UpJ4GPain3"
      },
      "source": [
        ""
      ],
      "execution_count": null,
      "outputs": []
    },
    {
      "cell_type": "code",
      "metadata": {
        "id": "PVNA__cWaih3"
      },
      "source": [
        ""
      ],
      "execution_count": null,
      "outputs": []
    }
  ]
}